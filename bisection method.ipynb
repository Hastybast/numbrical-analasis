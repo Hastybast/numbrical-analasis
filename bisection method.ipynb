{
  "nbformat": 4,
  "nbformat_minor": 0,
  "metadata": {
    "colab": {
      "provenance": [],
      "authorship_tag": "ABX9TyN6xw/C9fJuoZboiCc416s8",
      "include_colab_link": true
    },
    "kernelspec": {
      "name": "python3",
      "display_name": "Python 3"
    },
    "language_info": {
      "name": "python"
    }
  },
  "cells": [
    {
      "cell_type": "markdown",
      "metadata": {
        "id": "view-in-github",
        "colab_type": "text"
      },
      "source": [
        "<a href=\"https://colab.research.google.com/github/Hastybast/numbrical-analasis/blob/main/bisection%20method.ipynb\" target=\"_parent\"><img src=\"https://colab.research.google.com/assets/colab-badge.svg\" alt=\"Open In Colab\"/></a>"
      ]
    },
    {
      "cell_type": "code",
      "execution_count": null,
      "metadata": {
        "id": "WZbYZqXqCpP5"
      },
      "outputs": [],
      "source": [
        "def bisection_method(func, a, b, tol=1e-6, max_iter=100):\n",
        "    \"\"\"\n",
        "    Bisection method to find the root of a function.\n",
        "\n",
        "    Parameters:\n",
        "    - func: The target function.\n",
        "    - a, b: The interval [a, b] where the root is expected.\n",
        "    - tol: Tolerance, the acceptable error in the result.\n",
        "    - max_iter: Maximum number of iterations.\n",
        "\n",
        "    Returns:\n",
        "    - root: Approximation of the root.\n",
        "    - iterations: Number of iterations performed.\n",
        "    \"\"\"\n",
        "\n",
        "    # Check if the interval is valid (different signs at the endpoints)\n",
        "    if func(a) * func(b) > 0:\n",
        "        raise ValueError(\"The function values at the endpoints must have different signs.\")\n",
        "\n",
        "    # Initialize variables\n",
        "    iteration = 0\n",
        "\n",
        "    while (b - a) / 2 > tol and iteration < max_iter:\n",
        "        c = (a + b) / 2  # Midpoint\n",
        "\n",
        "        if func(c) == 0:\n",
        "            # Found the exact root\n",
        "            return c, iteration\n",
        "\n",
        "        if func(c) * func(a) < 0:\n",
        "            b = c\n",
        "        else:\n",
        "            a = c\n",
        "\n",
        "        iteration += 1\n",
        "\n",
        "    # Return the midpoint of the final interval as the root approximation\n",
        "    root = (a + b) / 2\n",
        "    return root, iteration\n",
        "\n",
        "\n",
        "# Example usage:\n",
        "if __name__ == \"__main__\":\n",
        "    # Define the target function\n",
        "    def target_function(x):\n",
        "        return x**3 - x**2 - 1\n",
        "\n",
        "    # Define the interval [a, b] where the root is expected\n",
        "    a, b = 1, 2\n",
        "\n",
        "    # Call the bisection method\n",
        "    root, iterations = bisection_method(target_function, a, b)\n",
        "\n",
        "    # Print the result\n",
        "    print(f\"Approximate root: {root}\")\n",
        "    print(f\"Iterations performed: {iterations}\")"
      ]
    }
  ]
}