{
  "nbformat": 4,
  "nbformat_minor": 0,
  "metadata": {
    "colab": {
      "provenance": [],
      "authorship_tag": "ABX9TyOm/nOs05e2hidDpgGagF9d",
      "include_colab_link": true
    },
    "kernelspec": {
      "name": "python3",
      "display_name": "Python 3"
    },
    "language_info": {
      "name": "python"
    }
  },
  "cells": [
    {
      "cell_type": "markdown",
      "metadata": {
        "id": "view-in-github",
        "colab_type": "text"
      },
      "source": [
        "<a href=\"https://colab.research.google.com/github/Hastybast/numbrical-analasis/blob/false-position/falsepositio.ipynb\" target=\"_parent\"><img src=\"https://colab.research.google.com/assets/colab-badge.svg\" alt=\"Open In Colab\"/></a>"
      ]
    },
    {
      "cell_type": "code",
      "execution_count": 3,
      "metadata": {
        "colab": {
          "base_uri": "https://localhost:8080/"
        },
        "id": "leGql8IPER6H",
        "outputId": "ee7b2184-2416-4bca-df7e-e5fff519f792"
      },
      "outputs": [
        {
          "output_type": "stream",
          "name": "stdout",
          "text": [
            "The root of f between a and b is: 2.0\n"
          ]
        }
      ],
      "source": [
        "import numpy as np\n",
        "import matplotlib.pyplot as plt\n",
        "\n",
        "def false_position(f, a, b, tol=1e-6):\n",
        "  \"\"\"\n",
        "  Finds a root of a function f between a and b using the false position method.\n",
        "\n",
        "  Args:\n",
        "    f: The function to find the root of.\n",
        "    a: The lower bound of the search interval.\n",
        "    b: The upper bound of the search interval.\n",
        "    tol: The tolerance for the root.\n",
        "\n",
        "  Returns:\n",
        "    The root of f between a and b.\n",
        "  \"\"\"\n",
        "\n",
        "  # Check if f(a) and f(b) have the same sign.\n",
        "  if f(a) * f(b) > 0:\n",
        "    raise ValueError(\"f(a) and f(b) must have opposite signs.\")\n",
        "\n",
        "  # Initialize the search interval.\n",
        "  x0 = (a + b) / 2\n",
        "  x1 = x0 - f(x0) / (f(b) - f(a))\n",
        "\n",
        "  # Iterate until the root is found.\n",
        "  while abs(x1 - x0) > tol:\n",
        "    x0 = x1\n",
        "    x1 = x0 - f(x0) / (f(b) - f(a))\n",
        "\n",
        "  return x1\n",
        "\n",
        "# Example usage\n",
        "\n",
        "def f(x):\n",
        "  return x**3 - 2*x**2 + x - 2\n",
        "\n",
        "a = 0\n",
        "b = 2\n",
        "\n",
        "root = false_position(f, a, b)\n",
        "\n",
        "print(\"The root of f between a and b is:\", root)\n",
        "\n"
      ]
    },
    {
      "cell_type": "code",
      "source": [],
      "metadata": {
        "id": "LFD4V991EZ9E"
      },
      "execution_count": null,
      "outputs": []
    }
  ]
}